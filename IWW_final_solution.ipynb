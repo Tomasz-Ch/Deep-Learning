{
 "cells": [
  {
   "cell_type": "markdown",
   "metadata": {
    "colab_type": "text",
    "id": "pVdphRd-FPiB"
   },
   "source": [
    "### Wczytywanie modułów"
   ]
  },
  {
   "cell_type": "code",
   "execution_count": 4,
   "metadata": {
    "colab": {},
    "colab_type": "code",
    "id": "WlZ8ulaYX82m"
   },
   "outputs": [],
   "source": [
    "import numpy as np\n",
    "import pandas as pd\n",
    "import matplotlib.pyplot as plt\n",
    "import seaborn as sns\n",
    "from sklearn.model_selection import train_test_split\n",
    "from sklearn.preprocessing import StandardScaler\n",
    "\n",
    "import keras"
   ]
  },
  {
   "cell_type": "markdown",
   "metadata": {
    "colab_type": "text",
    "id": "21QHKXAeFTyE"
   },
   "source": [
    "### Wczytywanie funkcji"
   ]
  },
  {
   "cell_type": "code",
   "execution_count": 5,
   "metadata": {
    "colab": {},
    "colab_type": "code",
    "id": "F0Kx50l1eSI-"
   },
   "outputs": [],
   "source": [
    "def split_data(data, x_cols, y_col):\n",
    "    \"\"\"\n",
    "    Split data to train/ test based on specific list of columns.\n",
    "    \n",
    "    Args:\n",
    "        data: DataFrame.\n",
    "        x_cols: List of input columns.\n",
    "        y_col: Output column. \n",
    "    \n",
    "    Returns:\n",
    "        train_data\n",
    "        test_data\n",
    "        train_label\n",
    "        test_label\n",
    "    \"\"\"\n",
    "    return train_test_split(data.loc[:, x_cols], \n",
    "                            data.loc[:, y_col], test_size = 0.1,\n",
    "                            random_state = 20190411)\n",
    "\n",
    "def create_training_plot(model, metric = 'loss'):\n",
    "    \"\"\"\n",
    "    Desc\n",
    "    \n",
    "    Args:\n",
    "        model:\n",
    "        metric:\n",
    "        \n",
    "    Returns:\n",
    "    \n",
    "    \"\"\"\n",
    "    plt.plot(model.history[metric])\n",
    "    plt.plot(model.history['val_' + metric])\n",
    "    plt.title('model loss')\n",
    "    plt.ylabel('loss')\n",
    "    plt.xlabel('epoch')\n",
    "    plt.legend(['train', 'test'], loc='upper left')\n",
    "    return plt.show()"
   ]
  },
  {
   "cell_type": "markdown",
   "metadata": {
    "colab_type": "text",
    "id": "GUF2qmxIFZh5"
   },
   "source": [
    "### Wczytywanie danych "
   ]
  },
  {
   "cell_type": "code",
   "execution_count": 6,
   "metadata": {
    "colab": {},
    "colab_type": "code",
    "id": "ViMuVXBVYB_M"
   },
   "outputs": [],
   "source": [
    "df = pd.read_csv('https://gitlab.com/Nicolabo/airbnbdata/raw/master/listings.csv')"
   ]
  },
  {
   "cell_type": "markdown",
   "metadata": {
    "colab_type": "text",
    "id": "g_kEpG4HYIQ4"
   },
   "source": [
    "### Tworzenie modelu odniesienia (baseline model)"
   ]
  },
  {
   "cell_type": "code",
   "execution_count": 7,
   "metadata": {
    "colab": {},
    "colab_type": "code",
    "id": "bSavc7SfYGFU"
   },
   "outputs": [
    {
     "name": "stdout",
     "output_type": "stream",
     "text": [
      "The metrics (MAE) for the baseline model is 69.64289719158455.\n"
     ]
    }
   ],
   "source": [
    "\"\"\"\n",
    "Create a baseline for price prediction.\n",
    "\n",
    "It will be based on average calculated for specific neighborhood.\n",
    "\"\"\"\n",
    "\n",
    "baseline_df = df\\\n",
    "  .assign(neighbourhood_price = lambda x: x.groupby('neighbourhood')['price'].transform('mean'))\\\n",
    "  .assign(dump_diff = lambda x: np.abs(x.price - x.neighbourhood_price))\n",
    "\n",
    "print(f'The metrics (MAE) for the baseline model is {np.mean(baseline_df.dump_diff)}.')"
   ]
  },
  {
   "cell_type": "markdown",
   "metadata": {
    "colab_type": "text",
    "id": "LbJEL35ZFozG"
   },
   "source": [
    "### Rozwiązanie zadań\n"
   ]
  },
  {
   "cell_type": "code",
   "execution_count": 8,
   "metadata": {
    "colab": {},
    "colab_type": "code",
    "id": "KHsgUBLJvK-G"
   },
   "outputs": [
    {
     "data": {
      "text/plain": [
       "neighbourhood           1\n",
       "latitude                0\n",
       "longitude               0\n",
       "number_of_reviews       0\n",
       "accommodates            0\n",
       "beds                    0\n",
       "review_scores_rating    0\n",
       "price                   0\n",
       "dtype: int64"
      ]
     },
     "execution_count": 8,
     "metadata": {},
     "output_type": "execute_result"
    }
   ],
   "source": [
    "# Sprawdzenie oraz wypełnienie braków danych\n",
    "df.isnull().sum()\n",
    "\n",
    "df['beds'].fillna(np.mean(df.beds),inplace=True)\n",
    "df['review_scores_rating'].fillna(np.mean(df.review_scores_rating),inplace=True)\n",
    "\n",
    "df.isnull().sum()"
   ]
  },
  {
   "cell_type": "code",
   "execution_count": 9,
   "metadata": {
    "colab": {},
    "colab_type": "code",
    "id": "pa5kD9O6V_iD"
   },
   "outputs": [],
   "source": [
    "# Podział danych\n",
    "train_x, test_x, train_y, test_y = split_data(\n",
    "    df, \n",
    "    ['latitude', 'longitude', 'number_of_reviews', 'accommodates', 'beds', 'review_scores_rating'], \n",
    "    'price'\n",
    ")"
   ]
  },
  {
   "cell_type": "code",
   "execution_count": 10,
   "metadata": {
    "colab": {},
    "colab_type": "code",
    "id": "9xZsxmGwvSuO"
   },
   "outputs": [],
   "source": [
    "# Standaryzacja zmiennych modelu\n",
    "std_scale=StandardScaler().fit(train_x)\n",
    "\n",
    "train_x_std = std_scale.transform(train_x)\n",
    "test_x_std = std_scale.transform(test_x)"
   ]
  },
  {
   "cell_type": "code",
   "execution_count": 11,
   "metadata": {
    "colab": {},
    "colab_type": "code",
    "id": "bTbF1vJUGFZp"
   },
   "outputs": [],
   "source": [
    "# Definicja struktury modelu\n",
    "model = keras.models.Sequential()\n",
    "model.add(keras.layers.Dense(units = 256, input_dim = 6, activation='relu'))\n",
    "model.add(keras.layers.Dense(units = 128, activation='relu'))\n",
    "model.add(keras.layers.Dense(units = 32, activation='relu'))\n",
    "model.add(keras.layers.Dense(units = 1))"
   ]
  },
  {
   "cell_type": "code",
   "execution_count": 12,
   "metadata": {
    "colab": {},
    "colab_type": "code",
    "id": "fuh-LcvppRS0"
   },
   "outputs": [
    {
     "name": "stdout",
     "output_type": "stream",
     "text": [
      "Model: \"sequential_1\"\n",
      "_________________________________________________________________\n",
      "Layer (type)                 Output Shape              Param #   \n",
      "=================================================================\n",
      "dense_1 (Dense)              (None, 256)               1792      \n",
      "_________________________________________________________________\n",
      "dense_2 (Dense)              (None, 128)               32896     \n",
      "_________________________________________________________________\n",
      "dense_3 (Dense)              (None, 32)                4128      \n",
      "_________________________________________________________________\n",
      "dense_4 (Dense)              (None, 1)                 33        \n",
      "=================================================================\n",
      "Total params: 38,849\n",
      "Trainable params: 38,849\n",
      "Non-trainable params: 0\n",
      "_________________________________________________________________\n"
     ]
    }
   ],
   "source": [
    "model.summary()"
   ]
  },
  {
   "cell_type": "code",
   "execution_count": 13,
   "metadata": {
    "colab": {},
    "colab_type": "code",
    "id": "BKV44r27XS3_"
   },
   "outputs": [],
   "source": [
    "# Definiujemy sposób uczenia\n",
    "model.compile(\n",
    "  loss = 'mean_squared_error',\n",
    "  optimizer = 'adam',\n",
    "  metrics = ['mae']\n",
    ")"
   ]
  },
  {
   "cell_type": "code",
   "execution_count": 14,
   "metadata": {
    "colab": {},
    "colab_type": "code",
    "id": "kj08rmkKXo9Q"
   },
   "outputs": [
    {
     "name": "stdout",
     "output_type": "stream",
     "text": [
      "WARNING:tensorflow:From //anaconda3/lib/python3.7/site-packages/keras/backend/tensorflow_backend.py:422: The name tf.global_variables is deprecated. Please use tf.compat.v1.global_variables instead.\n",
      "\n",
      "Train on 64071 samples, validate on 7120 samples\n",
      "Epoch 1/100\n",
      "64071/64071 [==============================] - 1s 18us/step - loss: 37655.5804 - mae: 79.3053 - val_loss: 72839.1955 - val_mae: 64.8215\n",
      "Epoch 2/100\n",
      "64071/64071 [==============================] - 1s 14us/step - loss: 31043.7799 - mae: 58.6672 - val_loss: 71985.7036 - val_mae: 61.6763\n",
      "Epoch 3/100\n",
      "64071/64071 [==============================] - 1s 13us/step - loss: 30582.4994 - mae: 56.7234 - val_loss: 71624.8084 - val_mae: 61.3265\n",
      "Epoch 4/100\n",
      "64071/64071 [==============================] - 1s 15us/step - loss: 30281.5517 - mae: 55.3749 - val_loss: 71222.2920 - val_mae: 59.6217\n",
      "Epoch 5/100\n",
      "64071/64071 [==============================] - 1s 16us/step - loss: 29825.4811 - mae: 53.8191 - val_loss: 70736.5606 - val_mae: 57.3727\n",
      "Epoch 6/100\n",
      "64071/64071 [==============================] - 1s 14us/step - loss: 29360.8048 - mae: 52.3928 - val_loss: 70276.9046 - val_mae: 61.5263\n",
      "Epoch 7/100\n",
      "64071/64071 [==============================] - 1s 14us/step - loss: 29007.0602 - mae: 51.9474 - val_loss: 69796.4907 - val_mae: 55.7261\n",
      "Epoch 8/100\n",
      "64071/64071 [==============================] - 1s 14us/step - loss: 28638.9587 - mae: 50.8763 - val_loss: 69508.0303 - val_mae: 54.6961\n",
      "Epoch 9/100\n",
      "64071/64071 [==============================] - 1s 15us/step - loss: 28346.2321 - mae: 50.4739 - val_loss: 69039.8794 - val_mae: 57.1073\n",
      "Epoch 10/100\n",
      "64071/64071 [==============================] - 1s 15us/step - loss: 28130.7565 - mae: 50.1069 - val_loss: 68890.3919 - val_mae: 55.1816\n",
      "Epoch 11/100\n",
      "64071/64071 [==============================] - 1s 14us/step - loss: 27915.5047 - mae: 49.6825 - val_loss: 68643.2991 - val_mae: 55.8000\n",
      "Epoch 12/100\n",
      "64071/64071 [==============================] - 1s 15us/step - loss: 27765.6107 - mae: 49.4544 - val_loss: 68772.7010 - val_mae: 52.2041\n",
      "Epoch 13/100\n",
      "64071/64071 [==============================] - 1s 15us/step - loss: 27673.5148 - mae: 49.4935 - val_loss: 68374.8058 - val_mae: 54.3552\n",
      "Epoch 14/100\n",
      "64071/64071 [==============================] - 1s 18us/step - loss: 27543.0382 - mae: 49.3306 - val_loss: 68404.4724 - val_mae: 54.2972\n",
      "Epoch 15/100\n",
      "64071/64071 [==============================] - 1s 20us/step - loss: 27468.4849 - mae: 49.3021 - val_loss: 68306.3496 - val_mae: 52.3056\n",
      "Epoch 16/100\n",
      "64071/64071 [==============================] - 1s 18us/step - loss: 27390.0708 - mae: 49.0646 - val_loss: 68176.1333 - val_mae: 53.3617\n",
      "Epoch 17/100\n",
      "64071/64071 [==============================] - 1s 18us/step - loss: 27284.9114 - mae: 49.3625 - val_loss: 68268.3458 - val_mae: 57.7603\n",
      "Epoch 18/100\n",
      "64071/64071 [==============================] - 1s 15us/step - loss: 27292.4521 - mae: 49.5238 - val_loss: 67845.4748 - val_mae: 54.2694\n",
      "Epoch 19/100\n",
      "64071/64071 [==============================] - 1s 14us/step - loss: 27098.6993 - mae: 48.8671 - val_loss: 67985.7878 - val_mae: 56.1354\n",
      "Epoch 20/100\n",
      "64071/64071 [==============================] - 1s 14us/step - loss: 27089.4044 - mae: 49.2233 - val_loss: 67802.9485 - val_mae: 53.9571\n",
      "Epoch 21/100\n",
      "64071/64071 [==============================] - 1s 14us/step - loss: 27000.3773 - mae: 48.9118 - val_loss: 67686.2703 - val_mae: 54.3569\n",
      "Epoch 22/100\n",
      "64071/64071 [==============================] - 1s 14us/step - loss: 26951.3188 - mae: 48.8877 - val_loss: 67591.9869 - val_mae: 55.7115\n",
      "Epoch 23/100\n",
      "64071/64071 [==============================] - 1s 14us/step - loss: 26907.2460 - mae: 48.9880 - val_loss: 67707.6035 - val_mae: 52.0998\n",
      "Epoch 24/100\n",
      "64071/64071 [==============================] - 1s 14us/step - loss: 26819.4721 - mae: 48.7747 - val_loss: 67591.5475 - val_mae: 55.5072\n",
      "Epoch 25/100\n",
      "64071/64071 [==============================] - 1s 15us/step - loss: 26787.7633 - mae: 48.7815 - val_loss: 67485.9613 - val_mae: 55.4471\n",
      "Epoch 26/100\n",
      "64071/64071 [==============================] - 1s 14us/step - loss: 26749.4351 - mae: 48.8831 - val_loss: 67527.9443 - val_mae: 55.5241\n",
      "Epoch 27/100\n",
      "64071/64071 [==============================] - 1s 15us/step - loss: 26774.6590 - mae: 48.9939 - val_loss: 67560.4124 - val_mae: 52.9344\n",
      "Epoch 28/100\n",
      "64071/64071 [==============================] - 1s 14us/step - loss: 26683.9086 - mae: 48.6403 - val_loss: 67286.8853 - val_mae: 53.9264\n",
      "Epoch 29/100\n",
      "64071/64071 [==============================] - 1s 14us/step - loss: 26618.4927 - mae: 48.6448 - val_loss: 67598.1140 - val_mae: 58.5303\n",
      "Epoch 30/100\n",
      "64071/64071 [==============================] - 1s 15us/step - loss: 26549.0051 - mae: 49.2638 - val_loss: 67490.1365 - val_mae: 52.7460\n",
      "Epoch 31/100\n",
      "64071/64071 [==============================] - 1s 18us/step - loss: 26582.0328 - mae: 48.5969 - val_loss: 67380.0972 - val_mae: 53.9599\n",
      "Epoch 32/100\n",
      "64071/64071 [==============================] - 1s 15us/step - loss: 26505.7434 - mae: 48.6667 - val_loss: 67661.5423 - val_mae: 52.8056\n",
      "Epoch 33/100\n",
      "64071/64071 [==============================] - 1s 17us/step - loss: 26468.0773 - mae: 48.6336 - val_loss: 67639.5492 - val_mae: 56.9640\n",
      "Epoch 34/100\n",
      "64071/64071 [==============================] - 1s 15us/step - loss: 26520.7981 - mae: 48.6889 - val_loss: 67560.4271 - val_mae: 51.8414\n",
      "Epoch 35/100\n",
      "64071/64071 [==============================] - 1s 17us/step - loss: 26414.0774 - mae: 48.5820 - val_loss: 67065.1704 - val_mae: 54.2076\n",
      "Epoch 36/100\n",
      "64071/64071 [==============================] - 1s 15us/step - loss: 26399.3383 - mae: 48.5928 - val_loss: 67240.4780 - val_mae: 52.9983\n",
      "Epoch 37/100\n",
      "64071/64071 [==============================] - 1s 16us/step - loss: 26307.9177 - mae: 48.6108 - val_loss: 67125.9833 - val_mae: 52.5005\n",
      "Epoch 38/100\n",
      "64071/64071 [==============================] - 1s 15us/step - loss: 26340.1303 - mae: 48.5764 - val_loss: 67511.0046 - val_mae: 56.1516\n",
      "Epoch 39/100\n",
      "64071/64071 [==============================] - 1s 16us/step - loss: 26259.4781 - mae: 48.8156 - val_loss: 67355.1651 - val_mae: 53.7062\n",
      "Epoch 40/100\n",
      "64071/64071 [==============================] - 1s 16us/step - loss: 26265.7660 - mae: 48.5183 - val_loss: 67046.0143 - val_mae: 54.1990\n",
      "Epoch 41/100\n",
      "64071/64071 [==============================] - 1s 15us/step - loss: 26251.1857 - mae: 48.5453 - val_loss: 67104.9280 - val_mae: 53.2740\n",
      "Epoch 42/100\n",
      "64071/64071 [==============================] - 1s 15us/step - loss: 26159.3762 - mae: 48.4034 - val_loss: 67055.2853 - val_mae: 55.0516\n",
      "Epoch 43/100\n",
      "64071/64071 [==============================] - 1s 15us/step - loss: 26142.1776 - mae: 48.4838 - val_loss: 66803.3506 - val_mae: 55.6378\n",
      "Epoch 44/100\n",
      "64071/64071 [==============================] - 1s 15us/step - loss: 26022.4522 - mae: 48.2912 - val_loss: 66781.8691 - val_mae: 55.3437\n",
      "Epoch 45/100\n",
      "64071/64071 [==============================] - 1s 15us/step - loss: 26136.6716 - mae: 49.0073 - val_loss: 67139.5948 - val_mae: 56.3804\n",
      "Epoch 46/100\n",
      "64071/64071 [==============================] - 1s 15us/step - loss: 26098.6693 - mae: 48.6485 - val_loss: 67005.1517 - val_mae: 53.5938\n",
      "Epoch 47/100\n",
      "64071/64071 [==============================] - 1s 16us/step - loss: 25887.9952 - mae: 48.2835 - val_loss: 66872.0435 - val_mae: 51.8195\n",
      "Epoch 48/100\n",
      "64071/64071 [==============================] - 1s 15us/step - loss: 25933.0741 - mae: 48.4047 - val_loss: 66954.4370 - val_mae: 51.2737\n",
      "Epoch 49/100\n",
      "64071/64071 [==============================] - 1s 15us/step - loss: 25793.5727 - mae: 48.1356 - val_loss: 66838.8178 - val_mae: 52.8253\n",
      "Epoch 50/100\n",
      "64071/64071 [==============================] - 1s 14us/step - loss: 25898.8688 - mae: 48.2540 - val_loss: 66948.8847 - val_mae: 59.3923\n",
      "Epoch 51/100\n",
      "64071/64071 [==============================] - 1s 14us/step - loss: 25803.4483 - mae: 49.1178 - val_loss: 66722.8135 - val_mae: 52.1566\n",
      "Epoch 52/100\n",
      "64071/64071 [==============================] - 1s 15us/step - loss: 25692.2467 - mae: 48.3416 - val_loss: 67862.3173 - val_mae: 53.8156\n",
      "Epoch 53/100\n",
      "64071/64071 [==============================] - 1s 15us/step - loss: 25955.1086 - mae: 48.7613 - val_loss: 66646.1594 - val_mae: 54.1281\n",
      "Epoch 54/100\n"
     ]
    },
    {
     "name": "stdout",
     "output_type": "stream",
     "text": [
      "64071/64071 [==============================] - 1s 14us/step - loss: 25705.5114 - mae: 48.3678 - val_loss: 66738.3611 - val_mae: 52.4460\n",
      "Epoch 55/100\n",
      "64071/64071 [==============================] - 1s 14us/step - loss: 25556.6533 - mae: 48.2756 - val_loss: 66671.5457 - val_mae: 55.6618\n",
      "Epoch 56/100\n",
      "64071/64071 [==============================] - 1s 14us/step - loss: 25792.1697 - mae: 48.9968 - val_loss: 66843.6737 - val_mae: 51.8221\n",
      "Epoch 57/100\n",
      "64071/64071 [==============================] - 1s 14us/step - loss: 25511.6705 - mae: 48.3100 - val_loss: 66633.8570 - val_mae: 53.2939\n",
      "Epoch 58/100\n",
      "64071/64071 [==============================] - 1s 15us/step - loss: 25526.3342 - mae: 48.4673 - val_loss: 66332.0855 - val_mae: 53.4128\n",
      "Epoch 59/100\n",
      "64071/64071 [==============================] - 1s 14us/step - loss: 25564.3825 - mae: 48.1865 - val_loss: 66502.8058 - val_mae: 55.4613\n",
      "Epoch 60/100\n",
      "64071/64071 [==============================] - 1s 14us/step - loss: 25439.3378 - mae: 48.5010 - val_loss: 66305.4187 - val_mae: 53.3592\n",
      "Epoch 61/100\n",
      "64071/64071 [==============================] - 1s 14us/step - loss: 25507.7518 - mae: 48.3853 - val_loss: 66281.8117 - val_mae: 53.7038\n",
      "Epoch 62/100\n",
      "64071/64071 [==============================] - 1s 14us/step - loss: 25765.4817 - mae: 48.8251 - val_loss: 66412.5130 - val_mae: 54.3161\n",
      "Epoch 63/100\n",
      "64071/64071 [==============================] - 1s 14us/step - loss: 25368.2085 - mae: 48.1052 - val_loss: 66359.4535 - val_mae: 52.8713\n",
      "Epoch 64/100\n",
      "64071/64071 [==============================] - 1s 14us/step - loss: 25330.1258 - mae: 47.9917 - val_loss: 66425.3401 - val_mae: 54.8166\n",
      "Epoch 65/100\n",
      "64071/64071 [==============================] - 1s 14us/step - loss: 25386.3173 - mae: 48.5890 - val_loss: 66477.9305 - val_mae: 51.8542\n",
      "Epoch 66/100\n",
      "64071/64071 [==============================] - 1s 14us/step - loss: 25247.1958 - mae: 48.3802 - val_loss: 66457.9869 - val_mae: 53.4114\n",
      "Epoch 67/100\n",
      "64071/64071 [==============================] - 1s 14us/step - loss: 25113.9527 - mae: 48.0200 - val_loss: 66410.5254 - val_mae: 53.7003\n",
      "Epoch 68/100\n",
      "64071/64071 [==============================] - 1s 16us/step - loss: 25155.5597 - mae: 48.4793 - val_loss: 66831.6290 - val_mae: 52.8692\n",
      "Epoch 69/100\n",
      "64071/64071 [==============================] - 1s 15us/step - loss: 25153.5377 - mae: 48.0413 - val_loss: 66512.5684 - val_mae: 55.5144\n",
      "Epoch 70/100\n",
      "64071/64071 [==============================] - 1s 14us/step - loss: 25078.8094 - mae: 48.2087 - val_loss: 66113.4135 - val_mae: 52.6669\n",
      "Epoch 71/100\n",
      "64071/64071 [==============================] - 1s 14us/step - loss: 25091.2547 - mae: 48.1521 - val_loss: 66267.2255 - val_mae: 52.4876\n",
      "Epoch 72/100\n",
      "64071/64071 [==============================] - 1s 14us/step - loss: 24827.6200 - mae: 48.1555 - val_loss: 66555.4379 - val_mae: 52.7999\n",
      "Epoch 73/100\n",
      "64071/64071 [==============================] - 1s 14us/step - loss: 25077.3402 - mae: 48.2932 - val_loss: 66071.5920 - val_mae: 53.8047\n",
      "Epoch 74/100\n",
      "64071/64071 [==============================] - 1s 14us/step - loss: 24860.9495 - mae: 48.2410 - val_loss: 66396.6404 - val_mae: 51.7937\n",
      "Epoch 75/100\n",
      "64071/64071 [==============================] - 1s 15us/step - loss: 24895.3620 - mae: 48.1531 - val_loss: 66113.1119 - val_mae: 54.4257\n",
      "Epoch 76/100\n",
      "64071/64071 [==============================] - 1s 14us/step - loss: 24860.6410 - mae: 48.0368 - val_loss: 66012.1334 - val_mae: 53.5844\n",
      "Epoch 77/100\n",
      "64071/64071 [==============================] - 1s 14us/step - loss: 24719.5528 - mae: 48.1525 - val_loss: 66543.0263 - val_mae: 53.8933\n",
      "Epoch 78/100\n",
      "64071/64071 [==============================] - 1s 14us/step - loss: 24720.9626 - mae: 48.1515 - val_loss: 66261.6331 - val_mae: 53.3150\n",
      "Epoch 79/100\n",
      "64071/64071 [==============================] - 1s 14us/step - loss: 24759.3262 - mae: 47.9513 - val_loss: 66220.5739 - val_mae: 54.4752\n",
      "Epoch 80/100\n",
      "64071/64071 [==============================] - 1s 14us/step - loss: 24706.0424 - mae: 48.2164 - val_loss: 66435.2137 - val_mae: 53.0808\n",
      "Epoch 81/100\n",
      "64071/64071 [==============================] - 1s 14us/step - loss: 24802.1662 - mae: 48.1953 - val_loss: 66101.6567 - val_mae: 53.8399\n",
      "Epoch 82/100\n",
      "64071/64071 [==============================] - 1s 15us/step - loss: 24493.8774 - mae: 48.0222 - val_loss: 66096.5891 - val_mae: 53.4932\n",
      "Epoch 83/100\n",
      "64071/64071 [==============================] - 1s 15us/step - loss: 24506.5535 - mae: 48.1796 - val_loss: 66024.8857 - val_mae: 54.2782\n",
      "Epoch 84/100\n",
      "64071/64071 [==============================] - 1s 14us/step - loss: 24577.1334 - mae: 48.2589 - val_loss: 66210.2121 - val_mae: 52.8405\n",
      "Epoch 85/100\n",
      "64071/64071 [==============================] - 1s 14us/step - loss: 24604.0004 - mae: 48.0195 - val_loss: 66388.6427 - val_mae: 56.2367\n",
      "Epoch 86/100\n",
      "64071/64071 [==============================] - 1s 15us/step - loss: 24520.9814 - mae: 48.4872 - val_loss: 65996.7741 - val_mae: 53.9463\n",
      "Epoch 87/100\n",
      "64071/64071 [==============================] - 1s 15us/step - loss: 24331.4712 - mae: 48.0024 - val_loss: 66223.1272 - val_mae: 52.4390\n",
      "Epoch 88/100\n",
      "64071/64071 [==============================] - 1s 14us/step - loss: 24330.5085 - mae: 47.9401 - val_loss: 66305.3488 - val_mae: 54.0967\n",
      "Epoch 89/100\n",
      "64071/64071 [==============================] - 1s 14us/step - loss: 24373.7051 - mae: 48.0830 - val_loss: 66526.1340 - val_mae: 55.8911\n",
      "Epoch 90/100\n",
      "64071/64071 [==============================] - 1s 15us/step - loss: 24122.3010 - mae: 47.9922 - val_loss: 66635.2502 - val_mae: 52.9006\n",
      "Epoch 91/100\n",
      "64071/64071 [==============================] - 1s 15us/step - loss: 24437.4664 - mae: 48.2850 - val_loss: 66013.8281 - val_mae: 53.3278\n",
      "Epoch 92/100\n",
      "64071/64071 [==============================] - 1s 15us/step - loss: 24227.4307 - mae: 48.3149 - val_loss: 66057.5553 - val_mae: 53.5109\n",
      "Epoch 93/100\n",
      "64071/64071 [==============================] - 1s 15us/step - loss: 23849.7567 - mae: 47.9678 - val_loss: 66728.4025 - val_mae: 51.7671\n",
      "Epoch 94/100\n",
      "64071/64071 [==============================] - 1s 14us/step - loss: 24262.9567 - mae: 48.0778 - val_loss: 66576.6738 - val_mae: 53.1781\n",
      "Epoch 95/100\n",
      "64071/64071 [==============================] - 1s 14us/step - loss: 24103.9492 - mae: 48.0826 - val_loss: 66238.6799 - val_mae: 58.7884\n",
      "Epoch 96/100\n",
      "64071/64071 [==============================] - 1s 15us/step - loss: 24107.8147 - mae: 48.5095 - val_loss: 66259.2539 - val_mae: 53.1887\n",
      "Epoch 97/100\n",
      "64071/64071 [==============================] - 1s 15us/step - loss: 23960.1871 - mae: 48.3215 - val_loss: 66311.9118 - val_mae: 52.7536\n",
      "Epoch 98/100\n",
      "64071/64071 [==============================] - 1s 14us/step - loss: 24005.9221 - mae: 48.0807 - val_loss: 66162.9293 - val_mae: 54.6786\n",
      "Epoch 99/100\n",
      "64071/64071 [==============================] - 1s 15us/step - loss: 23853.8043 - mae: 48.1629 - val_loss: 66258.0133 - val_mae: 51.8669\n",
      "Epoch 100/100\n",
      "64071/64071 [==============================] - 1s 15us/step - loss: 23945.7300 - mae: 48.1237 - val_loss: 66083.0557 - val_mae: 53.3770\n"
     ]
    },
    {
     "data": {
      "text/plain": [
       "<keras.callbacks.callbacks.History at 0x1a2d9a4128>"
      ]
     },
     "execution_count": 14,
     "metadata": {},
     "output_type": "execute_result"
    }
   ],
   "source": [
    "# Trening modelu\n",
    "model.fit(\n",
    "  x = train_x_std,\n",
    "  y = train_y,\n",
    "  epochs = 100,\n",
    "  validation_split=0.1,\n",
    "  batch_size=512\n",
    ")"
   ]
  },
  {
   "cell_type": "code",
   "execution_count": 15,
   "metadata": {
    "colab": {},
    "colab_type": "code",
    "id": "NR3U6HRlWvak"
   },
   "outputs": [
    {
     "name": "stdout",
     "output_type": "stream",
     "text": [
      "7911/7911 [==============================] - 0s 25us/step\n"
     ]
    },
    {
     "data": {
      "text/plain": [
       "[71702.03311125208, 49.86172866821289]"
      ]
     },
     "execution_count": 15,
     "metadata": {},
     "output_type": "execute_result"
    }
   ],
   "source": [
    "model.evaluate(test_x_std, test_y)"
   ]
  }
 ],
 "metadata": {
  "accelerator": "GPU",
  "colab": {
   "collapsed_sections": [],
   "name": "IWW_final_solution.ipynb",
   "private_outputs": true,
   "provenance": []
  },
  "kernelspec": {
   "display_name": "Python 3",
   "language": "python",
   "name": "python3"
  },
  "language_info": {
   "codemirror_mode": {
    "name": "ipython",
    "version": 3
   },
   "file_extension": ".py",
   "mimetype": "text/x-python",
   "name": "python",
   "nbconvert_exporter": "python",
   "pygments_lexer": "ipython3",
   "version": "3.7.3"
  }
 },
 "nbformat": 4,
 "nbformat_minor": 1
}
