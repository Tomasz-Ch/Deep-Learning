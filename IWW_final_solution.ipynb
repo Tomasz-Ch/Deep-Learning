{
  "nbformat": 4,
  "nbformat_minor": 0,
  "metadata": {
    "colab": {
      "name": "IWW_final_solution.ipynb",
      "provenance": [],
      "private_outputs": true,
      "collapsed_sections": []
    },
    "kernelspec": {
      "name": "python3",
      "display_name": "Python 3"
    },
    "accelerator": "GPU"
  },
  "cells": [
    {
      "cell_type": "markdown",
      "metadata": {
        "id": "pVdphRd-FPiB",
        "colab_type": "text"
      },
      "source": [
        "### Wczytywanie modułów"
      ]
    },
    {
      "cell_type": "code",
      "metadata": {
        "id": "WlZ8ulaYX82m",
        "colab_type": "code",
        "colab": {}
      },
      "source": [
        "import numpy as np\n",
        "import pandas as pd\n",
        "import matplotlib.pyplot as plt\n",
        "import seaborn as sns\n",
        "from sklearn.model_selection import train_test_split\n",
        "from sklearn.preprocessing import StandardScaler\n",
        "\n",
        "import keras"
      ],
      "execution_count": 0,
      "outputs": []
    },
    {
      "cell_type": "markdown",
      "metadata": {
        "id": "21QHKXAeFTyE",
        "colab_type": "text"
      },
      "source": [
        "### Wczytywanie funkcji"
      ]
    },
    {
      "cell_type": "code",
      "metadata": {
        "id": "F0Kx50l1eSI-",
        "colab_type": "code",
        "colab": {}
      },
      "source": [
        "def split_data(data, x_cols, y_col):\n",
        "    \"\"\"\n",
        "    Split data to train/ test based on specific list of columns.\n",
        "    \n",
        "    Args:\n",
        "        data: DataFrame.\n",
        "        x_cols: List of input columns.\n",
        "        y_col: Output column. \n",
        "    \n",
        "    Returns:\n",
        "        train_data\n",
        "        test_data\n",
        "        train_label\n",
        "        test_label\n",
        "    \"\"\"\n",
        "    return train_test_split(data.loc[:, x_cols], \n",
        "                            data.loc[:, y_col], test_size = 0.1,\n",
        "                            random_state = 20190411)\n",
        "\n",
        "def create_training_plot(model, metric = 'loss'):\n",
        "    \"\"\"\n",
        "    Desc\n",
        "    \n",
        "    Args:\n",
        "        model:\n",
        "        metric:\n",
        "        \n",
        "    Returns:\n",
        "    \n",
        "    \"\"\"\n",
        "    plt.plot(model.history[metric])\n",
        "    plt.plot(model.history['val_' + metric])\n",
        "    plt.title('model loss')\n",
        "    plt.ylabel('loss')\n",
        "    plt.xlabel('epoch')\n",
        "    plt.legend(['train', 'test'], loc='upper left')\n",
        "    return plt.show()"
      ],
      "execution_count": 0,
      "outputs": []
    },
    {
      "cell_type": "markdown",
      "metadata": {
        "id": "GUF2qmxIFZh5",
        "colab_type": "text"
      },
      "source": [
        "### Wczytywanie danych "
      ]
    },
    {
      "cell_type": "code",
      "metadata": {
        "id": "ViMuVXBVYB_M",
        "colab_type": "code",
        "colab": {}
      },
      "source": [
        "df = pd.read_csv('https://gitlab.com/Nicolabo/airbnbdata/raw/master/listings.csv')"
      ],
      "execution_count": 0,
      "outputs": []
    },
    {
      "cell_type": "markdown",
      "metadata": {
        "id": "g_kEpG4HYIQ4",
        "colab_type": "text"
      },
      "source": [
        "### Tworzenie modelu odniesienia (baseline model)"
      ]
    },
    {
      "cell_type": "code",
      "metadata": {
        "id": "bSavc7SfYGFU",
        "colab_type": "code",
        "colab": {}
      },
      "source": [
        "\"\"\"\n",
        "Create a baseline for price prediction.\n",
        "\n",
        "It will be based on average calculated for specific neighborhood.\n",
        "\"\"\"\n",
        "\n",
        "baseline_df = df\\\n",
        "  .assign(neighbourhood_price = lambda x: x.groupby('neighbourhood')['price'].transform('mean'))\\\n",
        "  .assign(dump_diff = lambda x: np.abs(x.price - x.neighbourhood_price))\n",
        "\n",
        "print(f'The metrics (MAE) for the baseline model is {np.mean(baseline_df.dump_diff)}.')"
      ],
      "execution_count": 0,
      "outputs": []
    },
    {
      "cell_type": "markdown",
      "metadata": {
        "id": "LbJEL35ZFozG",
        "colab_type": "text"
      },
      "source": [
        "### Rozwiązanie zadań\n"
      ]
    },
    {
      "cell_type": "code",
      "metadata": {
        "id": "KHsgUBLJvK-G",
        "colab_type": "code",
        "colab": {}
      },
      "source": [
        "# Sprawdzenie oraz wypełnienie braków danych\n",
        "df.isnull().sum()\n",
        "\n",
        "df['beds'].fillna(np.mean(df.beds),inplace=True)\n",
        "df['review_scores_rating'].fillna(np.mean(df.review_scores_rating),inplace=True)\n",
        "\n",
        "df.isnull().sum()"
      ],
      "execution_count": 0,
      "outputs": []
    },
    {
      "cell_type": "code",
      "metadata": {
        "id": "pa5kD9O6V_iD",
        "colab_type": "code",
        "colab": {}
      },
      "source": [
        "# Podział danych\n",
        "train_x, test_x, train_y, test_y = split_data(\n",
        "    df, \n",
        "    ['latitude', 'longitude', 'number_of_reviews', 'accommodates', 'beds', 'review_scores_rating'], \n",
        "    'price'\n",
        ")"
      ],
      "execution_count": 0,
      "outputs": []
    },
    {
      "cell_type": "code",
      "metadata": {
        "id": "9xZsxmGwvSuO",
        "colab_type": "code",
        "colab": {}
      },
      "source": [
        "# Standaryzacja zmiennych modelu\n",
        "std_scale=StandardScaler().fit(train_x)\n",
        "\n",
        "train_x_std = std_scale.transform(train_x)\n",
        "test_x_std = std_scale.transform(test_x)"
      ],
      "execution_count": 0,
      "outputs": []
    },
    {
      "cell_type": "code",
      "metadata": {
        "id": "bTbF1vJUGFZp",
        "colab_type": "code",
        "colab": {}
      },
      "source": [
        "# Definicja struktury modelu\n",
        "model = keras.models.Sequential()\n",
        "model.add(keras.layers.Dense(units = 256, input_dim = 6, activation='relu'))\n",
        "model.add(keras.layers.Dense(units = 128, activation='relu'))\n",
        "model.add(keras.layers.Dense(units = 32, activation='relu'))\n",
        "model.add(keras.layers.Dense(units = 1))"
      ],
      "execution_count": 0,
      "outputs": []
    },
    {
      "cell_type": "code",
      "metadata": {
        "id": "fuh-LcvppRS0",
        "colab_type": "code",
        "colab": {}
      },
      "source": [
        "model.summary()"
      ],
      "execution_count": 0,
      "outputs": []
    },
    {
      "cell_type": "code",
      "metadata": {
        "id": "BKV44r27XS3_",
        "colab_type": "code",
        "colab": {}
      },
      "source": [
        "# Definiujemy sposób uczenia\n",
        "model.compile(\n",
        "  loss = 'mean_squared_error',\n",
        "  optimizer = 'adam',\n",
        "  metrics = ['mae']\n",
        ")"
      ],
      "execution_count": 0,
      "outputs": []
    },
    {
      "cell_type": "code",
      "metadata": {
        "id": "kj08rmkKXo9Q",
        "colab_type": "code",
        "colab": {}
      },
      "source": [
        "# Trening modelu\n",
        "model.fit(\n",
        "  x = train_x_std,\n",
        "  y = train_y,\n",
        "  epochs = 100,\n",
        "  validation_split=0.1,\n",
        "  batch_size=512\n",
        ")"
      ],
      "execution_count": 0,
      "outputs": []
    },
    {
      "cell_type": "code",
      "metadata": {
        "id": "NR3U6HRlWvak",
        "colab_type": "code",
        "colab": {}
      },
      "source": [
        "model.evaluate(test_x_std, test_y)"
      ],
      "execution_count": 0,
      "outputs": []
    }
  ]
}