{
  "nbformat": 4,
  "nbformat_minor": 0,
  "metadata": {
    "colab": {
      "name": "IWW_starter.ipynb",
      "provenance": [],
      "private_outputs": true,
      "collapsed_sections": []
    },
    "kernelspec": {
      "name": "python3",
      "display_name": "Python 3"
    },
    "accelerator": "GPU"
  },
  "cells": [
    {
      "cell_type": "markdown",
      "metadata": {
        "id": "pVdphRd-FPiB",
        "colab_type": "text"
      },
      "source": [
        "### Wczytywanie modułów"
      ]
    },
    {
      "cell_type": "code",
      "metadata": {
        "id": "WlZ8ulaYX82m",
        "colab_type": "code",
        "colab": {}
      },
      "source": [
        "import numpy as np\n",
        "import pandas as pd\n",
        "import matplotlib.pyplot as plt\n",
        "import seaborn as sns\n",
        "from sklearn.model_selection import train_test_split\n",
        "from sklearn.preprocessing import StandardScaler\n",
        "\n",
        "import keras"
      ],
      "execution_count": 0,
      "outputs": []
    },
    {
      "cell_type": "markdown",
      "metadata": {
        "id": "21QHKXAeFTyE",
        "colab_type": "text"
      },
      "source": [
        "### Wczytywanie funkcji"
      ]
    },
    {
      "cell_type": "code",
      "metadata": {
        "id": "F0Kx50l1eSI-",
        "colab_type": "code",
        "colab": {}
      },
      "source": [
        "def split_data(data, x_cols, y_col):\n",
        "    \"\"\"\n",
        "    Split data to train/ test based on specific list of columns.\n",
        "    \n",
        "    Args:\n",
        "        data: DataFrame.\n",
        "        x_cols: List of input columns.\n",
        "        y_col: Output column. \n",
        "    \n",
        "    Returns:\n",
        "        train_data\n",
        "        test_data\n",
        "        train_label\n",
        "        test_label\n",
        "    \"\"\"\n",
        "    return train_test_split(data.loc[:, x_cols], \n",
        "                            data.loc[:, y_col], test_size = 0.1,\n",
        "                            random_state = 20190411)\n",
        "\n",
        "def create_training_plot(model, metric = 'loss'):\n",
        "    \"\"\"\n",
        "    Desc\n",
        "    \n",
        "    Args:\n",
        "        model:\n",
        "        metric:\n",
        "        \n",
        "    Returns:\n",
        "    \n",
        "    \"\"\"\n",
        "    plt.plot(model.history[metric])\n",
        "    plt.plot(model.history['val_' + metric])\n",
        "    plt.title('model loss')\n",
        "    plt.ylabel('loss')\n",
        "    plt.xlabel('epoch')\n",
        "    plt.legend(['train', 'test'], loc='upper left')\n",
        "    return plt.show()"
      ],
      "execution_count": 0,
      "outputs": []
    },
    {
      "cell_type": "markdown",
      "metadata": {
        "id": "GUF2qmxIFZh5",
        "colab_type": "text"
      },
      "source": [
        "### Wczytywanie danych "
      ]
    },
    {
      "cell_type": "code",
      "metadata": {
        "id": "ViMuVXBVYB_M",
        "colab_type": "code",
        "colab": {}
      },
      "source": [
        "df = pd.read_csv('https://gitlab.com/Nicolabo/airbnbdata/raw/master/listings.csv')"
      ],
      "execution_count": 0,
      "outputs": []
    },
    {
      "cell_type": "markdown",
      "metadata": {
        "id": "g_kEpG4HYIQ4",
        "colab_type": "text"
      },
      "source": [
        "### Tworzenie modelu odniesienia (baseline model)"
      ]
    },
    {
      "cell_type": "code",
      "metadata": {
        "id": "bSavc7SfYGFU",
        "colab_type": "code",
        "colab": {}
      },
      "source": [
        "\"\"\"\n",
        "Create a baseline for price prediction.\n",
        "\n",
        "It will be based on average calculated for specific neighborhood.\n",
        "\"\"\"\n",
        "\n",
        "baseline_df = df\\\n",
        "  .assign(neighbourhood_price = lambda x: x.groupby('neighbourhood')['price'].transform('mean'))\\\n",
        "  .assign(dump_diff = lambda x: np.abs(x.price - x.neighbourhood_price))\n",
        "\n",
        "print(f'The metrics (MAE) for the baseline model is {np.mean(baseline_df.dump_diff)}.')"
      ],
      "execution_count": 0,
      "outputs": []
    },
    {
      "cell_type": "markdown",
      "metadata": {
        "id": "LbJEL35ZFozG",
        "colab_type": "text"
      },
      "source": [
        "### Rozwiązanie zadań\n"
      ]
    }
  ]
}