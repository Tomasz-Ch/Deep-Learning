{
 "cells": [
  {
   "cell_type": "code",
   "execution_count": 0,
   "metadata": {
    "colab": {},
    "colab_type": "code",
    "id": "in20AJC-IA74"
   },
   "outputs": [],
   "source": [
    "import numpy as np\n",
    "import pandas as pd\n",
    "import matplotlib.pyplot as plt\n",
    "from sklearn.linear_model import LinearRegression\n",
    "from sklearn.metrics import mean_squared_error\n",
    "from sklearn.preprocessing import MinMaxScaler"
   ]
  },
  {
   "cell_type": "markdown",
   "metadata": {
    "colab_type": "text",
    "id": "0sVNWvquIA79"
   },
   "source": [
    "## 0. Intro - stworzenie danych"
   ]
  },
  {
   "cell_type": "code",
   "execution_count": 0,
   "metadata": {
    "colab": {},
    "colab_type": "code",
    "id": "CdbpzWheIA7-"
   },
   "outputs": [],
   "source": [
    "def generate_linear_data(slope, n, std_dev):\n",
    "    x = np.random.choice(n*2, n, replace=False)\n",
    "    e = np.random.randn(n) * std_dev\n",
    "    y = (x * slope + e)\n",
    "    return x, y"
   ]
  },
  {
   "cell_type": "code",
   "execution_count": 0,
   "metadata": {
    "colab": {},
    "colab_type": "code",
    "id": "-jVgOdmMIA8B"
   },
   "outputs": [],
   "source": [
    "np.random.seed(27)\n",
    "x, y = generate_linear_data(2.5, 50, 10)\n",
    "\n",
    "generated_data = pd.DataFrame({'age': x, 'wage': y})"
   ]
  },
  {
   "cell_type": "code",
   "execution_count": 0,
   "metadata": {
    "colab": {
     "base_uri": "https://localhost:8080/",
     "height": 52
    },
    "colab_type": "code",
    "id": "_fENNLixIA8E",
    "outputId": "90f8fcc7-3185-4c30-abc1-585226f43c4c"
   },
   "outputs": [
    {
     "data": {
      "text/plain": [
       "array([[1.        , 0.99328824],\n",
       "       [0.99328824, 1.        ]])"
      ]
     },
     "execution_count": 15,
     "metadata": {
      "tags": []
     },
     "output_type": "execute_result"
    }
   ],
   "source": [
    "np.corrcoef(x,y)"
   ]
  },
  {
   "cell_type": "code",
   "execution_count": 0,
   "metadata": {
    "colab": {
     "base_uri": "https://localhost:8080/",
     "height": 301
    },
    "colab_type": "code",
    "id": "BVygiKIoIA8I",
    "outputId": "c0dece16-047e-4777-f110-4ae13cfeb955"
   },
   "outputs": [
    {
     "data": {
      "text/plain": [
       "Text(0, 0.5, 'Roczna pensja (tys. zł)')"
      ]
     },
     "execution_count": 16,
     "metadata": {
      "tags": []
     },
     "output_type": "execute_result"
    },
    {
     "data": {
      "image/png": "[encoded data removed]",
      "text/plain": [
       "<Figure size 432x288 with 1 Axes>"
      ]
     },
     "metadata": {
      "tags": []
     },
     "output_type": "display_data"
    }
   ],
   "source": [
    "plt.scatter(generated_data.age, generated_data.wage)\n",
    "plt.xlabel(\"Wiek\")\n",
    "plt.ylabel(\"Roczna pensja (tys. zł)\")"
   ]
  },
  {
   "cell_type": "code",
   "execution_count": 0,
   "metadata": {
    "colab": {},
    "colab_type": "code",
    "id": "Xv6cS_VZIA8M"
   },
   "outputs": [],
   "source": [
    "def calculate_linear_model(data, x_cols, y_cols):\n",
    "    model = LinearRegression()\n",
    "    x = data.loc[:, x_cols].values\n",
    "    y = data[y_cols].values\n",
    "    model.fit(x, y)\n",
    "    y_hat = (np.dot(model.coef_, x.T) + model.intercept_)\n",
    "    mse = mean_squared_error(y, y_hat)\n",
    "    return {\n",
    "        'weight': model.coef_[0],\n",
    "        'bias': model.intercept_,\n",
    "        'mse': mse\n",
    "    }"
   ]
  },
  {
   "cell_type": "markdown",
   "metadata": {
    "colab_type": "text",
    "id": "0jgtxJC2IA8O"
   },
   "source": [
    "## Baseline"
   ]
  },
  {
   "cell_type": "code",
   "execution_count": 0,
   "metadata": {
    "colab": {
     "base_uri": "https://localhost:8080/",
     "height": 69
    },
    "colab_type": "code",
    "id": "ErQMr5bpIA8O",
    "outputId": "79bb9b4a-1d66-4572-efe1-757d938827fb"
   },
   "outputs": [
    {
     "data": {
      "text/plain": [
       "{'bias': 3.9320232835498388,\n",
       " 'mse': 73.74287665166943,\n",
       " 'weight': 2.448497144093145}"
      ]
     },
     "execution_count": 18,
     "metadata": {
      "tags": []
     },
     "output_type": "execute_result"
    }
   ],
   "source": [
    "calculate_linear_model(generated_data, ['age'], 'wage')"
   ]
  },
  {
   "cell_type": "markdown",
   "metadata": {
    "colab_type": "text",
    "id": "HbSkskAjlGKU"
   },
   "source": [
    "##Jak korzystać z unit testów?"
   ]
  },
  {
   "cell_type": "code",
   "execution_count": 0,
   "metadata": {
    "colab": {},
    "colab_type": "code",
    "id": "E4Hq-8aPlBlt"
   },
   "outputs": [],
   "source": [
    "assert 1 == 1 # Test przechodzi!"
   ]
  },
  {
   "cell_type": "markdown",
   "metadata": {
    "colab_type": "text",
    "id": "ovQ6gOdzIA8R"
   },
   "source": [
    "### Zadanie 1a"
   ]
  },
  {
   "cell_type": "code",
   "execution_count": 0,
   "metadata": {
    "colab": {},
    "colab_type": "code",
    "id": "m2YNgN8hIA8R"
   },
   "outputs": [],
   "source": [
    "INIT_WEIGHT = 0.5\n",
    "INIT_BIAS = 0"
   ]
  },
  {
   "cell_type": "code",
   "execution_count": 0,
   "metadata": {
    "colab": {},
    "colab_type": "code",
    "id": "k9Rk6tbeIA8T"
   },
   "outputs": [],
   "source": [
    "######## Miejsce na rozwiązanie zadania 1a ########\n",
    "def get_linear_forward(x, weight, bias):\n",
    "  return weight * x + bias"
   ]
  },
  {
   "cell_type": "code",
   "execution_count": 0,
   "metadata": {
    "colab": {},
    "colab_type": "code",
    "id": "rxqxHW4ZIA8V"
   },
   "outputs": [],
   "source": [
    "### Unit test \n",
    "x = np.array([1, 2, 3])\n",
    "y = np.array([ 3.9,  1.6,  6.9])\n",
    "\n",
    "y_hat = get_linear_forward(x=x, weight=3, bias=2)\n",
    "assert np.mean(y_hat) == 8\n",
    "assert y_hat.shape == (3,)"
   ]
  },
  {
   "cell_type": "markdown",
   "metadata": {
    "colab_type": "text",
    "id": "0HiNH1MMIA8X"
   },
   "source": [
    "### Zadanie 1b"
   ]
  },
  {
   "cell_type": "code",
   "execution_count": 0,
   "metadata": {
    "colab": {},
    "colab_type": "code",
    "id": "LG0cB9IvIA8Y"
   },
   "outputs": [],
   "source": [
    "######## Miejsce na rozwiązanie zadania 1b ########\n",
    "def compute_mse_loss(y_hat, y):\n",
    "  return np.mean(np.power(y_hat - y, 2))"
   ]
  },
  {
   "cell_type": "code",
   "execution_count": 0,
   "metadata": {
    "colab": {},
    "colab_type": "code",
    "id": "-lH2QziHIA8Z"
   },
   "outputs": [],
   "source": [
    "### Unit test \n",
    "x = np.array([1, 2, 3])\n",
    "y = np.array([ 3.9,  1.6,  6.9])\n",
    "\n",
    "y_hat = get_linear_forward(x=x, weight=3, bias=2)\n",
    "assert np.mean(y_hat) == 8\n",
    "assert y_hat.shape == (3,)\n",
    "assert compute_mse_loss(y_hat, y) == 19.66"
   ]
  },
  {
   "cell_type": "markdown",
   "metadata": {
    "colab_type": "text",
    "id": "8Gq2FxrvIA8a"
   },
   "source": [
    "### Zadanie 2"
   ]
  },
  {
   "cell_type": "code",
   "execution_count": 0,
   "metadata": {
    "colab": {},
    "colab_type": "code",
    "id": "4Y2dFCM8IA8a"
   },
   "outputs": [],
   "source": [
    "######## Miejsce na rozwiązanie zadania 2 ########\n",
    "def train(x_train, y_train, init_w, init_b):\n",
    "  output = get_linear_forward(x_train, init_w, init_b)\n",
    "  return compute_mse_loss(output, y_train)"
   ]
  },
  {
   "cell_type": "code",
   "execution_count": 0,
   "metadata": {
    "colab": {},
    "colab_type": "code",
    "id": "4GT4V9WHIA8c"
   },
   "outputs": [],
   "source": [
    "### Unit test\n",
    "first_step = train(x_train=generated_data.age, \n",
    "                   y_train=generated_data.wage, \n",
    "                   init_w=INIT_WEIGHT, \n",
    "                   init_b=INIT_BIAS)\n",
    "\n",
    "assert type(first_step) == float\n",
    "assert first_step == 14596.130125359838"
   ]
  },
  {
   "cell_type": "markdown",
   "metadata": {
    "colab_type": "text",
    "id": "9KoOr9MDIA8d"
   },
   "source": [
    "### Zadanie 3a"
   ]
  },
  {
   "cell_type": "code",
   "execution_count": 0,
   "metadata": {
    "colab": {},
    "colab_type": "code",
    "id": "a98J5PpYIA8d"
   },
   "outputs": [],
   "source": [
    "######## Miejsce na rozwiązanie zadania 3a ########\n",
    "def get_backprop(output, x, y):\n",
    "  grad_w = 2*x*(output - y)\n",
    "  grad_b = 2*(output - y)\n",
    "\n",
    "  return grad_w, grad_b"
   ]
  },
  {
   "cell_type": "code",
   "execution_count": 0,
   "metadata": {
    "colab": {},
    "colab_type": "code",
    "id": "q3anWDaoIA8e"
   },
   "outputs": [],
   "source": [
    "### Unit test\n",
    "x = np.array([1, 2, 3])\n",
    "y = np.array([ 3.9,  1.6,  6.9])\n",
    "output = get_linear_forward(x, weight = 3, bias = 2)\n",
    "\n",
    "back_step = get_backprop(output, x, y)\n",
    "assert len(back_step) == 2\n",
    "assert len(back_step[0]) == 3\n",
    "assert len(back_step[1]) == 3\n",
    "assert np.sum(back_step) == 75.60000000000001"
   ]
  },
  {
   "cell_type": "markdown",
   "metadata": {
    "colab_type": "text",
    "id": "U7m8bkeEIA8f"
   },
   "source": [
    "### Zadanie 3b"
   ]
  },
  {
   "cell_type": "code",
   "execution_count": 0,
   "metadata": {
    "colab": {},
    "colab_type": "code",
    "id": "5WuLzQ_PIA8g"
   },
   "outputs": [],
   "source": [
    "######## Miejsce na rozwiązanie zadania 3b ########\n",
    "def get_backprop(output, x, y):\n",
    "  grad_w = np.mean(2*x*(output - y))\n",
    "  grad_b = np.mean(2*(output - y))\n",
    "\n",
    "  return grad_w, grad_b"
   ]
  },
  {
   "cell_type": "code",
   "execution_count": 0,
   "metadata": {
    "colab": {},
    "colab_type": "code",
    "id": "gevjr3PEIA8h"
   },
   "outputs": [],
   "source": [
    "### Unit test\n",
    "x = np.array([1, 2, 3])\n",
    "y = np.array([ 3.9,  1.6,  6.9])\n",
    "output = get_linear_forward(x, weight = 3, bias = 2)\n",
    "\n",
    "back_step = get_backprop(output, x, y)\n",
    "assert len(back_step) == 2\n",
    "assert type(back_step[0]) == np.float64\n",
    "assert type(back_step[1]) == np.float64\n",
    "assert np.sum(back_step) == 25.2"
   ]
  },
  {
   "cell_type": "markdown",
   "metadata": {
    "colab_type": "text",
    "id": "I70fAfvFIA8i"
   },
   "source": [
    "### Zadanie 4"
   ]
  },
  {
   "cell_type": "code",
   "execution_count": 0,
   "metadata": {
    "colab": {},
    "colab_type": "code",
    "id": "Q4O9wVZdIA8i"
   },
   "outputs": [],
   "source": [
    "######## Miejsce na rozwiązanie zadania 4 ########\n",
    "def update_parameters(w_current, b_current, alpha, w_gradient, b_gradient):\n",
    "  \n",
    "  new_w = w_current - alpha * w_gradient\n",
    "  new_b = b_current - alpha * b_gradient\n",
    "  \n",
    "  return new_w, new_b"
   ]
  },
  {
   "cell_type": "code",
   "execution_count": 0,
   "metadata": {
    "colab": {},
    "colab_type": "code",
    "id": "82Lc7arDIA8j"
   },
   "outputs": [],
   "source": [
    "### Unit test\n",
    "w_current = 1\n",
    "b_current = 0\n",
    "alpha = 0.1\n",
    "w_gradient = 0.7\n",
    "b_gradient = -0.01\n",
    "\n",
    "new_params = update_parameters(w_current, b_current, alpha, w_gradient, b_gradient)\n",
    "assert len(new_params) == 2\n",
    "assert new_params[0] == 0.93\n",
    "assert new_params[1] == 0.001"
   ]
  },
  {
   "cell_type": "markdown",
   "metadata": {
    "colab_type": "text",
    "id": "bmqatFAAIA8k"
   },
   "source": [
    "### Zadanie 5"
   ]
  },
  {
   "cell_type": "code",
   "execution_count": 0,
   "metadata": {
    "colab": {},
    "colab_type": "code",
    "id": "8hGsMiMDIA8k"
   },
   "outputs": [],
   "source": [
    "######## Miejsce na rozwiązanie zadania 5 ########\n",
    "def train(x, y, init_weight, init_bias, alpha, epochs):\n",
    "\n",
    "  new_w = init_weight\n",
    "  new_b = init_bias\n",
    "  \n",
    "  for e in range(epochs):\n",
    "    output = get_linear_forward(x, new_w, new_b)\n",
    "    grad_w, grad_b = get_backprop(output, x, y)\n",
    "    new_w, new_b = update_parameters(new_w, new_b, alpha, grad_w, grad_b)\n",
    "    \n",
    "    if e % (epochs / 10) == 0:\n",
    "      loss = compute_mse_loss(output, y)\n",
    "      print(f'Cost after {e} epochs is: {loss}')\n",
    "  return new_w, new_b"
   ]
  },
  {
   "cell_type": "code",
   "execution_count": 0,
   "metadata": {
    "colab": {
     "base_uri": "https://localhost:8080/",
     "height": 52
    },
    "colab_type": "code",
    "id": "ZxSrDbzw3lsw",
    "outputId": "be4be43a-05cd-4e50-d23f-e63602aa369b"
   },
   "outputs": [
    {
     "name": "stdout",
     "output_type": "stream",
     "text": [
      "Cost after 0 epochs is: 19.986666666666668\n"
     ]
    },
    {
     "data": {
      "text/plain": [
       "(1.6495331591384892, 0.7934093138414753)"
      ]
     },
     "execution_count": 41,
     "metadata": {
      "tags": []
     },
     "output_type": "execute_result"
    }
   ],
   "source": [
    "### Unit test\n",
    "x = np.array([1, 2, 3])\n",
    "y = np.array([ 3.9,  1.6,  6.9])\n",
    "init_weight = 0.1\n",
    "init_bias = 0\n",
    "alpha = 0.1\n",
    "epochs = 10\n",
    "\n",
    "train(x, y, init_weight, init_bias, alpha, epochs)"
   ]
  },
  {
   "cell_type": "code",
   "execution_count": 0,
   "metadata": {
    "colab": {},
    "colab_type": "code",
    "id": "zbHzCj6CIA8l"
   },
   "outputs": [],
   "source": [
    "### Unit test\n",
    "x = np.array([1, 2, 3])\n",
    "y = np.array([ 3.9,  1.6,  6.9])\n",
    "init_weight = 0.1\n",
    "init_bias = 0\n",
    "alpha = 0.1\n",
    "epochs = 10\n",
    "\n",
    "final_params = train(x, y, init_weight, init_bias, alpha, epochs)\n",
    "rounded_final_params = np.round(final_params, 2)\n",
    "assert len(final_params) == 2\n",
    "assert rounded_final_params[0] == 1.65\n",
    "assert rounded_final_params[1] == 0.79"
   ]
  },
  {
   "cell_type": "code",
   "execution_count": 0,
   "metadata": {
    "colab": {
     "base_uri": "https://localhost:8080/",
     "height": 208
    },
    "colab_type": "code",
    "id": "9lkvxBeD4rqY",
    "outputId": "1c2f0af2-9a08-4591-c2e0-777dc3a3971e"
   },
   "outputs": [
    {
     "name": "stdout",
     "output_type": "stream",
     "text": [
      "Cost after 0 epochs is: 14596.130125359838\n",
      "Cost after 10000 epochs is: 75.1442418478872\n",
      "Cost after 20000 epochs is: 74.25603163106543\n",
      "Cost after 30000 epochs is: 73.9307848668796\n",
      "Cost after 40000 epochs is: 73.81168529381692\n",
      "Cost after 50000 epochs is: 73.7680731510821\n",
      "Cost after 60000 epochs is: 73.752103161056\n",
      "Cost after 70000 epochs is: 73.74625523510146\n",
      "Cost after 80000 epochs is: 73.74411382875657\n",
      "Cost after 90000 epochs is: 73.74332968388715\n"
     ]
    },
    {
     "data": {
      "text/plain": [
       "(2.448867222178931, 3.9063251406244275)"
      ]
     },
     "execution_count": 49,
     "metadata": {
      "tags": []
     },
     "output_type": "execute_result"
    }
   ],
   "source": [
    "train(generated_data.age, generated_data.wage, INIT_WEIGHT, INIT_BIAS, \n",
    "      alpha=0.0001, epochs=100000)"
   ]
  },
  {
   "cell_type": "code",
   "execution_count": 0,
   "metadata": {
    "colab": {},
    "colab_type": "code",
    "id": "ua-364XK5Iwi"
   },
   "outputs": [],
   "source": []
  }
 ],
 "metadata": {
  "colab": {
   "collapsed_sections": [],
   "name": "#2_iww_starter.ipynb",
   "provenance": []
  },
  "kernelspec": {
   "display_name": "Python 3",
   "language": "python",
   "name": "python3"
  },
  "language_info": {
   "codemirror_mode": {
    "name": "ipython",
    "version": 3
   },
   "file_extension": ".py",
   "mimetype": "text/x-python",
   "name": "python",
   "nbconvert_exporter": "python",
   "pygments_lexer": "ipython3",
   "version": "3.7.3"
  }
 },
 "nbformat": 4,
 "nbformat_minor": 1
}
